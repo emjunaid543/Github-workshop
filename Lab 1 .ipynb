{
 "cells": [
  {
   "cell_type": "code",
   "execution_count": 12,
   "id": "b17296b1",
   "metadata": {},
   "outputs": [],
   "source": [
    "from PIL import Image\n",
    "from PIL import ImageStat\n",
    "def brightness( im_file ):\n",
    "   im = Image.open(im_file).convert('L')\n",
    "   stat = ImageStat.Stat(im)\n",
    "   return stat.mean[0]"
   ]
  },
  {
   "cell_type": "code",
   "execution_count": 15,
   "id": "9e341550",
   "metadata": {},
   "outputs": [],
   "source": [
    "average1 = brightness (\"image1.jpeg\")\n",
    "average2 = brightness (\"image2.jpeg\")\n",
    "average3 = brightness (\"image3.jpeg\")"
   ]
  },
  {
   "cell_type": "code",
   "execution_count": 51,
   "id": "c84c1c3e",
   "metadata": {},
   "outputs": [
    {
     "name": "stdout",
     "output_type": "stream",
     "text": [
      "202.57535044352213\n",
      "83.37523523966472\n",
      "75.19599533081055\n"
     ]
    }
   ],
   "source": [
    "print(average1)\n",
    "print(average2)\n",
    "print(average3)"
   ]
  },
  {
   "cell_type": "code",
   "execution_count": null,
   "id": "cc0c3876",
   "metadata": {},
   "outputs": [],
   "source": [
    "from PIL import Image\n",
    "from PIL import ImageStat\n",
    "from scipy import ndimage"
   ]
  },
  {
   "cell_type": "code",
   "execution_count": 37,
   "id": "ed8ad806",
   "metadata": {},
   "outputs": [],
   "source": [
    "\n",
    "def gfilter( im_file ):\n",
    "   im = Image.open(im_file)\n",
    "   output = ndimage.gaussian_filter(im, sigma=[3, 3, 0])\n",
    "   return Image.fromarray(output)"
   ]
  },
  {
   "cell_type": "code",
   "execution_count": 38,
   "id": "dc5d6c59",
   "metadata": {},
   "outputs": [],
   "source": [
    "ISO_noisy=gfilter('./ISO_noisy.jpg')\n",
    "ISO_noisy.save('./ISO1_noisy.jpg')"
   ]
  },
  {
   "cell_type": "code",
   "execution_count": 39,
   "id": "cd50f769",
   "metadata": {},
   "outputs": [],
   "source": [
    "def mfilter( im_file ):\n",
    "   im = Image.open(im_file)\n",
    "   output = ndimage.median_filter(im, size=[3, 3, 1])\n",
    "   return Image.fromarray(output)\n"
   ]
  },
  {
   "cell_type": "code",
   "execution_count": 40,
   "id": "a425ec2d",
   "metadata": {},
   "outputs": [],
   "source": [
    "ISO_noisy=mfilter('./ISO_noisy.jpg')\n",
    "ISO_noisy.save('./ISO2_noisy.jpg')"
   ]
  },
  {
   "cell_type": "code",
   "execution_count": 43,
   "id": "a4352f9b",
   "metadata": {},
   "outputs": [],
   "source": [
    "noisy1= Image.open('./ISO1_noisy.jpg')\n",
    "output1 = ndimage.median_filter(noisy1, size=[3, 3, 1])\n",
    "noisy2= Image.open('./ISO2_noisy.jpg')\n",
    "output2 = ndimage.gaussian_filter(noisy2, sigma=[3, 3, 0])"
   ]
  },
  {
   "cell_type": "code",
   "execution_count": 44,
   "id": "2a5d0fb0",
   "metadata": {},
   "outputs": [],
   "source": [
    "noisy = output1 - output2"
   ]
  },
  {
   "cell_type": "code",
   "execution_count": 45,
   "id": "6a60e85e",
   "metadata": {},
   "outputs": [],
   "source": [
    "noisyi= Image.fromarray(noisy)\n",
    "noisyi.save('./ISO3_noisy.jpg')"
   ]
  },
  {
   "cell_type": "code",
   "execution_count": null,
   "id": "eab0c643",
   "metadata": {},
   "outputs": [],
   "source": []
  }
 ],
 "metadata": {
  "kernelspec": {
   "display_name": "Python 3 (ipykernel)",
   "language": "python",
   "name": "python3"
  },
  "language_info": {
   "codemirror_mode": {
    "name": "ipython",
    "version": 3
   },
   "file_extension": ".py",
   "mimetype": "text/x-python",
   "name": "python",
   "nbconvert_exporter": "python",
   "pygments_lexer": "ipython3",
   "version": "3.8.10"
  }
 },
 "nbformat": 4,
 "nbformat_minor": 5
}
